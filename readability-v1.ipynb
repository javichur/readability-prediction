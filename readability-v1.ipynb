{
 "cells": [
  {
   "cell_type": "code",
   "execution_count": 1,
   "id": "d54435b0",
   "metadata": {},
   "outputs": [
    {
     "data": {
      "text/plain": [
       "True"
      ]
     },
     "execution_count": 1,
     "metadata": {},
     "output_type": "execute_result"
    }
   ],
   "source": [
    "import torch\n",
    "\n",
    "torch.cuda.is_available()"
   ]
  },
  {
   "cell_type": "code",
   "execution_count": 2,
   "id": "91b3e569",
   "metadata": {},
   "outputs": [],
   "source": [
    "if torch.cuda.is_available() == False:\n",
    "    print('Error, selecciona una instancia con GPU.')"
   ]
  },
  {
   "cell_type": "code",
   "execution_count": 3,
   "id": "f7c037fa",
   "metadata": {},
   "outputs": [],
   "source": [
    "import numpy as np\n",
    "import pandas as pd\n",
    "import os"
   ]
  },
  {
   "cell_type": "code",
   "execution_count": 4,
   "id": "0baae0a0",
   "metadata": {},
   "outputs": [
    {
     "data": {
      "text/plain": [
       "'/home/ec2-user/SageMaker'"
      ]
     },
     "execution_count": 4,
     "metadata": {},
     "output_type": "execute_result"
    }
   ],
   "source": [
    "os.getcwd()"
   ]
  },
  {
   "cell_type": "code",
   "execution_count": 26,
   "id": "159e3dbe",
   "metadata": {},
   "outputs": [],
   "source": [
    "FOLDER_BASE = './dataset'\n",
    "FOLDER_OUTPUT = './output'\n",
    "\n",
    "S3_BUCKET_NAME = 'sagemaker-readability'"
   ]
  },
  {
   "cell_type": "code",
   "execution_count": 6,
   "id": "3605d5d5",
   "metadata": {},
   "outputs": [],
   "source": [
    "if not os.path.exists(FOLDER_OUTPUT):\n",
    "    os.makedirs(FOLDER_OUTPUT)"
   ]
  },
  {
   "cell_type": "code",
   "execution_count": 7,
   "id": "d19db388",
   "metadata": {},
   "outputs": [
    {
     "name": "stdout",
     "output_type": "stream",
     "text": [
      "\u001b[33mWARNING: You are using pip version 21.2.4; however, version 21.3.1 is available.\n",
      "You should consider upgrading via the '/home/ec2-user/anaconda3/envs/pytorch_latest_p37/bin/python -m pip install --upgrade pip' command.\u001b[0m\n"
     ]
    }
   ],
   "source": [
    "!pip install -q simpletransformers==0.51.0"
   ]
  },
  {
   "cell_type": "code",
   "execution_count": 8,
   "id": "cd908195",
   "metadata": {},
   "outputs": [],
   "source": [
    "from simpletransformers.classification import ClassificationModel, ClassificationArgs\n",
    "from transformers import AutoTokenizer, AutoModel"
   ]
  },
  {
   "cell_type": "code",
   "execution_count": 9,
   "id": "1034b310",
   "metadata": {},
   "outputs": [],
   "source": [
    "GLOBAL_SEED = 33\n",
    "\n",
    "def seed_everything(seed=1234):\n",
    "    random.seed(seed)\n",
    "    os.environ['PYTHONHASHSEED'] = str(seed)\n",
    "    np.random.seed(seed)\n",
    "    torch.manual_seed(seed)\n",
    "    torch.cuda.manual_seed(seed)\n",
    "    torch.backends.cudnn.deterministic = True\n",
    "    print('SEED: ' + str(seed))"
   ]
  },
  {
   "cell_type": "code",
   "execution_count": 10,
   "id": "6e4409e4",
   "metadata": {},
   "outputs": [],
   "source": [
    "class experiment: \n",
    "  def __init__(self, SUBMISSION_NUM, FOLDER, FORCE_LOWERCASE, CONFIG_CLEAN_CHARS, REMOVE_0_0, REMOVE_STOP_WORDS, MODEL_TYPE, MODEL_NAME, AUTO_TOKENIZER_NAME, P_TEST_SIZE, P_TRAIN_SIZE, LOAD_TRAIN_AND_TEST_SETS, FILENAME_INPUT_SUFIX, NUM_TRAIN_EPOCHS, IS_FP16_ENABLED, MAX_SEQ_LENGTH, EVAL_BATCH_SIZE, TRAIN_BATCH_SIZE, CONFIG_GRADIENT_ACCUMULATION_STEPS, LEARNING_RATE, CONFIG_NO_SAVE_MODEL, WARMUP_STEPS=0): \n",
    "    self.FORCE_LOWERCASE = FORCE_LOWERCASE\n",
    "    self.CONFIG_CLEAN_CHARS = CONFIG_CLEAN_CHARS\n",
    "\n",
    "    self.REMOVE_0_0 = REMOVE_0_0\n",
    "\n",
    "    self.REMOVE_STOP_WORDS = REMOVE_STOP_WORDS\n",
    "\n",
    "    self.MODEL_TYPE = MODEL_TYPE # Ejemplos: 'bert'\n",
    "    self.MODEL_NAME = MODEL_NAME # Ejemplos: 'bert-large-uncased', 'bert-base-uncased','roberta-large'\n",
    "    self.AUTO_TOKENIZER_NAME = AUTO_TOKENIZER_NAME\n",
    "\n",
    "    self.P_TEST_SIZE = P_TEST_SIZE\n",
    "    self.P_TRAIN_SIZE = P_TRAIN_SIZE\n",
    "\n",
    "    self.LOAD_TRAIN_AND_TEST_SETS = LOAD_TRAIN_AND_TEST_SETS\n",
    "    self.FILENAME_INPUT_SUFIX = FILENAME_INPUT_SUFIX\n",
    "\n",
    "    self.NUM_TRAIN_EPOCHS = NUM_TRAIN_EPOCHS\n",
    "    self.IS_FP16_ENABLED = IS_FP16_ENABLED\n",
    "    self.MAX_SEQ_LENGTH = MAX_SEQ_LENGTH # Se rellena auto al tokenizar.\n",
    "    self.EVAL_BATCH_SIZE = EVAL_BATCH_SIZE\n",
    "    self.TRAIN_BATCH_SIZE = TRAIN_BATCH_SIZE\n",
    "    self.CONFIG_GRADIENT_ACCUMULATION_STEPS = CONFIG_GRADIENT_ACCUMULATION_STEPS\n",
    "    self.LEARNING_RATE = LEARNING_RATE # Ejemplos: 1e-05, 4e-05\n",
    "\n",
    "    self.CONFIG_NO_SAVE_MODEL = CONFIG_NO_SAVE_MODEL\n",
    "\n",
    "    self.WARMUP_STEPS = WARMUP_STEPS\n",
    "\n",
    "    now = datetime.now()\n",
    "    dt_string = now.strftime(\"%Y-%m-%d_%H_%M_%S\")\n",
    "    self.OUTPUT_FOLDER = os.path.join(FOLDER, 'out-' + MODEL_NAME + '_' + str(SUBMISSION_NUM) + '_' + dt_string)\n",
    "\n",
    "  def info(self):\n",
    "    return self.MODEL_NAME + '-N' + str(self.NUM_TRAIN_EPOCHS) + '_LR' + str(self.LEARNING_RATE) + '_lower' + str(self.FORCE_LOWERCASE) + '_cleanChars' + str(self.CONFIG_CLEAN_CHARS) + '_removeStops' + str(self.REMOVE_STOP_WORDS) + '_removeZero' + str(self.REMOVE_0_0) + '_warm' + str(self.WARMUP_STEPS) + '_' + str(self.P_TRAIN_SIZE) + '_' + str(self.TRAIN_BATCH_SIZE) + 'x' + str(self.EVAL_BATCH_SIZE) + '_' + str(self.MAX_SEQ_LENGTH) + '_fp16' + str(self.IS_FP16_ENABLED)"
   ]
  },
  {
   "cell_type": "code",
   "execution_count": 11,
   "id": "ed384c5c",
   "metadata": {},
   "outputs": [],
   "source": [
    "from datetime import datetime\n",
    "import random\n",
    "\n",
    "from sklearn.model_selection import train_test_split\n",
    "from simpletransformers.classification import ClassificationModel, ClassificationArgs\n",
    "from transformers import AutoTokenizer, AutoModel"
   ]
  },
  {
   "cell_type": "code",
   "execution_count": 12,
   "id": "8ccf1044",
   "metadata": {},
   "outputs": [],
   "source": [
    "df_orig = pd.read_csv(os.path.join(FOLDER_BASE, 'train.csv'), sep=\",\", error_bad_lines=True)"
   ]
  },
  {
   "cell_type": "code",
   "execution_count": 13,
   "id": "ffc449b7",
   "metadata": {},
   "outputs": [
    {
     "data": {
      "text/html": [
       "<div>\n",
       "<style scoped>\n",
       "    .dataframe tbody tr th:only-of-type {\n",
       "        vertical-align: middle;\n",
       "    }\n",
       "\n",
       "    .dataframe tbody tr th {\n",
       "        vertical-align: top;\n",
       "    }\n",
       "\n",
       "    .dataframe thead th {\n",
       "        text-align: right;\n",
       "    }\n",
       "</style>\n",
       "<table border=\"1\" class=\"dataframe\">\n",
       "  <thead>\n",
       "    <tr style=\"text-align: right;\">\n",
       "      <th></th>\n",
       "      <th>id</th>\n",
       "      <th>url_legal</th>\n",
       "      <th>license</th>\n",
       "      <th>excerpt</th>\n",
       "      <th>target</th>\n",
       "      <th>standard_error</th>\n",
       "    </tr>\n",
       "  </thead>\n",
       "  <tbody>\n",
       "    <tr>\n",
       "      <th>0</th>\n",
       "      <td>c12129c31</td>\n",
       "      <td>NaN</td>\n",
       "      <td>NaN</td>\n",
       "      <td>When the young people returned to the ballroom...</td>\n",
       "      <td>-0.340259</td>\n",
       "      <td>0.464009</td>\n",
       "    </tr>\n",
       "    <tr>\n",
       "      <th>1</th>\n",
       "      <td>85aa80a4c</td>\n",
       "      <td>NaN</td>\n",
       "      <td>NaN</td>\n",
       "      <td>All through dinner time, Mrs. Fayre was somewh...</td>\n",
       "      <td>-0.315372</td>\n",
       "      <td>0.480805</td>\n",
       "    </tr>\n",
       "    <tr>\n",
       "      <th>2</th>\n",
       "      <td>b69ac6792</td>\n",
       "      <td>NaN</td>\n",
       "      <td>NaN</td>\n",
       "      <td>As Roger had predicted, the snow departed as q...</td>\n",
       "      <td>-0.580118</td>\n",
       "      <td>0.476676</td>\n",
       "    </tr>\n",
       "    <tr>\n",
       "      <th>3</th>\n",
       "      <td>dd1000b26</td>\n",
       "      <td>NaN</td>\n",
       "      <td>NaN</td>\n",
       "      <td>And outside before the palace a great garden w...</td>\n",
       "      <td>-1.054013</td>\n",
       "      <td>0.450007</td>\n",
       "    </tr>\n",
       "    <tr>\n",
       "      <th>4</th>\n",
       "      <td>37c1b32fb</td>\n",
       "      <td>NaN</td>\n",
       "      <td>NaN</td>\n",
       "      <td>Once upon a time there were Three Bears who li...</td>\n",
       "      <td>0.247197</td>\n",
       "      <td>0.510845</td>\n",
       "    </tr>\n",
       "    <tr>\n",
       "      <th>...</th>\n",
       "      <td>...</td>\n",
       "      <td>...</td>\n",
       "      <td>...</td>\n",
       "      <td>...</td>\n",
       "      <td>...</td>\n",
       "      <td>...</td>\n",
       "    </tr>\n",
       "    <tr>\n",
       "      <th>2829</th>\n",
       "      <td>25ca8f498</td>\n",
       "      <td>https://sites.ehe.osu.edu/beyondpenguins/files...</td>\n",
       "      <td>CC BY-SA 3.0</td>\n",
       "      <td>When you think of dinosaurs and where they liv...</td>\n",
       "      <td>1.711390</td>\n",
       "      <td>0.646900</td>\n",
       "    </tr>\n",
       "    <tr>\n",
       "      <th>2830</th>\n",
       "      <td>2c26db523</td>\n",
       "      <td>https://en.wikibooks.org/wiki/Wikijunior:The_E...</td>\n",
       "      <td>CC BY-SA 3.0</td>\n",
       "      <td>So what is a solid? Solids are usually hard be...</td>\n",
       "      <td>0.189476</td>\n",
       "      <td>0.535648</td>\n",
       "    </tr>\n",
       "    <tr>\n",
       "      <th>2831</th>\n",
       "      <td>cd19e2350</td>\n",
       "      <td>https://en.wikibooks.org/wiki/Wikijunior:The_E...</td>\n",
       "      <td>CC BY-SA 3.0</td>\n",
       "      <td>The second state of matter we will discuss is ...</td>\n",
       "      <td>0.255209</td>\n",
       "      <td>0.483866</td>\n",
       "    </tr>\n",
       "    <tr>\n",
       "      <th>2832</th>\n",
       "      <td>15e2e9e7a</td>\n",
       "      <td>https://en.wikibooks.org/wiki/Geometry_for_Ele...</td>\n",
       "      <td>CC BY-SA 3.0</td>\n",
       "      <td>Solids are shapes that you can actually touch....</td>\n",
       "      <td>-0.215279</td>\n",
       "      <td>0.514128</td>\n",
       "    </tr>\n",
       "    <tr>\n",
       "      <th>2833</th>\n",
       "      <td>5b990ba77</td>\n",
       "      <td>https://en.wikibooks.org/wiki/Wikijunior:Biolo...</td>\n",
       "      <td>CC BY-SA 3.0</td>\n",
       "      <td>Animals are made of many cells. They eat thing...</td>\n",
       "      <td>0.300779</td>\n",
       "      <td>0.512379</td>\n",
       "    </tr>\n",
       "  </tbody>\n",
       "</table>\n",
       "<p>2834 rows × 6 columns</p>\n",
       "</div>"
      ],
      "text/plain": [
       "             id                                          url_legal  \\\n",
       "0     c12129c31                                                NaN   \n",
       "1     85aa80a4c                                                NaN   \n",
       "2     b69ac6792                                                NaN   \n",
       "3     dd1000b26                                                NaN   \n",
       "4     37c1b32fb                                                NaN   \n",
       "...         ...                                                ...   \n",
       "2829  25ca8f498  https://sites.ehe.osu.edu/beyondpenguins/files...   \n",
       "2830  2c26db523  https://en.wikibooks.org/wiki/Wikijunior:The_E...   \n",
       "2831  cd19e2350  https://en.wikibooks.org/wiki/Wikijunior:The_E...   \n",
       "2832  15e2e9e7a  https://en.wikibooks.org/wiki/Geometry_for_Ele...   \n",
       "2833  5b990ba77  https://en.wikibooks.org/wiki/Wikijunior:Biolo...   \n",
       "\n",
       "           license                                            excerpt  \\\n",
       "0              NaN  When the young people returned to the ballroom...   \n",
       "1              NaN  All through dinner time, Mrs. Fayre was somewh...   \n",
       "2              NaN  As Roger had predicted, the snow departed as q...   \n",
       "3              NaN  And outside before the palace a great garden w...   \n",
       "4              NaN  Once upon a time there were Three Bears who li...   \n",
       "...            ...                                                ...   \n",
       "2829  CC BY-SA 3.0  When you think of dinosaurs and where they liv...   \n",
       "2830  CC BY-SA 3.0  So what is a solid? Solids are usually hard be...   \n",
       "2831  CC BY-SA 3.0  The second state of matter we will discuss is ...   \n",
       "2832  CC BY-SA 3.0  Solids are shapes that you can actually touch....   \n",
       "2833  CC BY-SA 3.0  Animals are made of many cells. They eat thing...   \n",
       "\n",
       "        target  standard_error  \n",
       "0    -0.340259        0.464009  \n",
       "1    -0.315372        0.480805  \n",
       "2    -0.580118        0.476676  \n",
       "3    -1.054013        0.450007  \n",
       "4     0.247197        0.510845  \n",
       "...        ...             ...  \n",
       "2829  1.711390        0.646900  \n",
       "2830  0.189476        0.535648  \n",
       "2831  0.255209        0.483866  \n",
       "2832 -0.215279        0.514128  \n",
       "2833  0.300779        0.512379  \n",
       "\n",
       "[2834 rows x 6 columns]"
      ]
     },
     "execution_count": 13,
     "metadata": {},
     "output_type": "execute_result"
    }
   ],
   "source": [
    "df_orig"
   ]
  },
  {
   "cell_type": "code",
   "execution_count": 14,
   "id": "8f66adb5",
   "metadata": {},
   "outputs": [],
   "source": [
    "SUBMISSION_ID = 1\n",
    "\n",
    "aux_experimento = experiment(\n",
    "  SUBMISSION_NUM = SUBMISSION_ID,\n",
    "  FOLDER = FOLDER_OUTPUT,\n",
    "  \n",
    "  FORCE_LOWERCASE = False,\n",
    "  CONFIG_CLEAN_CHARS = False,\n",
    "\n",
    "  REMOVE_0_0 = False,\n",
    "  REMOVE_STOP_WORDS = False,\n",
    "\n",
    "  MODEL_TYPE = 'roberta', # 'bert', 'roberta'\n",
    "  MODEL_NAME = 'roberta-base', # '../input/roberta-base', # 'roberta-base', # 'bert-large-uncased' # 'bert-base-uncased' #roberta-large'\n",
    "  AUTO_TOKENIZER_NAME = 'roberta-base', # '../input/roberta-base', # igual que model_name\n",
    "\n",
    "  P_TEST_SIZE = 0.1,\n",
    "  P_TRAIN_SIZE = 0.9,\n",
    "  LOAD_TRAIN_AND_TEST_SETS = False,\n",
    "  FILENAME_INPUT_SUFIX = 'writing-in-the-blog',\n",
    "\n",
    "  NUM_TRAIN_EPOCHS = 5,\n",
    "  IS_FP16_ENABLED = False,\n",
    "  MAX_SEQ_LENGTH = 10000, # Se rellena auto al tokenizar.\n",
    "  EVAL_BATCH_SIZE = 8,\n",
    "  TRAIN_BATCH_SIZE = 8,\n",
    "  CONFIG_GRADIENT_ACCUMULATION_STEPS = 1,\n",
    "  LEARNING_RATE = 4e-5,\n",
    "\n",
    "  WARMUP_STEPS = 0,\n",
    "\n",
    "  CONFIG_NO_SAVE_MODEL = False\n",
    ")"
   ]
  },
  {
   "cell_type": "code",
   "execution_count": 15,
   "id": "d2ed0115",
   "metadata": {},
   "outputs": [],
   "source": [
    "import statistics\n",
    "import logging\n",
    "\n",
    "def prediction_error(labels, preds):\n",
    "  errors = [\n",
    "             abs(label - pred)\n",
    "             for label, pred in zip(labels, preds)\n",
    "  ]\n",
    "  return statistics.mean(errors)\n",
    "\n",
    "\n",
    "logging.basicConfig(level=logging.INFO)\n",
    "transformers_logger = logging.getLogger(\"transformers\")\n",
    "transformers_logger.setLevel(logging.WARNING)"
   ]
  },
  {
   "cell_type": "code",
   "execution_count": 16,
   "id": "98dc2839",
   "metadata": {},
   "outputs": [
    {
     "name": "stdout",
     "output_type": "stream",
     "text": [
      "SEED: 33\n"
     ]
    }
   ],
   "source": [
    "seed_everything(seed=GLOBAL_SEED)"
   ]
  },
  {
   "cell_type": "code",
   "execution_count": 17,
   "id": "5430c3c7",
   "metadata": {},
   "outputs": [
    {
     "name": "stdout",
     "output_type": "stream",
     "text": [
      "Separado el dataset en train y test. Guardado en disco.\n"
     ]
    },
    {
     "name": "stderr",
     "output_type": "stream",
     "text": [
      "/home/ec2-user/anaconda3/envs/pytorch_latest_p37/lib/python3.7/site-packages/pandas/core/frame.py:4446: SettingWithCopyWarning: \n",
      "A value is trying to be set on a copy of a slice from a DataFrame\n",
      "\n",
      "See the caveats in the documentation: https://pandas.pydata.org/pandas-docs/stable/user_guide/indexing.html#returning-a-view-versus-a-copy\n",
      "  errors=errors,\n"
     ]
    },
    {
     "name": "stdout",
     "output_type": "stream",
     "text": [
      "MAX_SEQ_LENGTH (from Train & Eval): 322\n",
      "==> 1: roberta-base-N5_LR4e-05_lowerFalse_cleanCharsFalse_removeStopsFalse_removeZeroFalse_warm0_0.9_8x8_322_fp16False\n"
     ]
    },
    {
     "name": "stderr",
     "output_type": "stream",
     "text": [
      "/home/ec2-user/anaconda3/envs/pytorch_latest_p37/lib/python3.7/site-packages/ipykernel/__main__.py:47: SettingWithCopyWarning: \n",
      "A value is trying to be set on a copy of a slice from a DataFrame.\n",
      "Try using .loc[row_indexer,col_indexer] = value instead\n",
      "\n",
      "See the caveats in the documentation: https://pandas.pydata.org/pandas-docs/stable/user_guide/indexing.html#returning-a-view-versus-a-copy\n",
      "/home/ec2-user/anaconda3/envs/pytorch_latest_p37/lib/python3.7/site-packages/ipykernel/__main__.py:48: SettingWithCopyWarning: \n",
      "A value is trying to be set on a copy of a slice from a DataFrame.\n",
      "Try using .loc[row_indexer,col_indexer] = value instead\n",
      "\n",
      "See the caveats in the documentation: https://pandas.pydata.org/pandas-docs/stable/user_guide/indexing.html#returning-a-view-versus-a-copy\n",
      "/home/ec2-user/anaconda3/envs/pytorch_latest_p37/lib/python3.7/site-packages/ipykernel/__main__.py:50: SettingWithCopyWarning: \n",
      "A value is trying to be set on a copy of a slice from a DataFrame.\n",
      "Try using .loc[row_indexer,col_indexer] = value instead\n",
      "\n",
      "See the caveats in the documentation: https://pandas.pydata.org/pandas-docs/stable/user_guide/indexing.html#returning-a-view-versus-a-copy\n",
      "/home/ec2-user/anaconda3/envs/pytorch_latest_p37/lib/python3.7/site-packages/ipykernel/__main__.py:51: SettingWithCopyWarning: \n",
      "A value is trying to be set on a copy of a slice from a DataFrame.\n",
      "Try using .loc[row_indexer,col_indexer] = value instead\n",
      "\n",
      "See the caveats in the documentation: https://pandas.pydata.org/pandas-docs/stable/user_guide/indexing.html#returning-a-view-versus-a-copy\n"
     ]
    }
   ],
   "source": [
    "one = aux_experimento\n",
    "\n",
    "if one.LOAD_TRAIN_AND_TEST_SETS == False:\n",
    "  x_train, x_test = train_test_split(df_orig, test_size=one.P_TEST_SIZE, train_size=one.P_TRAIN_SIZE, shuffle=True)\n",
    "\n",
    "  now = datetime.now()\n",
    "  dt_string = now.strftime(\"%Y-%m-%d_%H_%M_%S\")\n",
    "  suffix = dt_string + '_' + str(one.P_TRAIN_SIZE) + 'x' + str(one.P_TEST_SIZE)\n",
    "    \n",
    "  x_train.to_csv(os.path.join(FOLDER_OUTPUT, \"x_train_\" + suffix +  \".csv\"), sep=\",\", index=False)\n",
    "  x_test.to_csv(os.path.join(FOLDER_OUTPUT, \"x_test_\" + suffix  + \".csv\"), sep=\",\", index=False)\n",
    "\n",
    "  print('Separado el dataset en train y test. Guardado en disco.')\n",
    "else:\n",
    "  x_train = pd.read_csv(os.path.join(FOLDER_OUTPUT, 'x_train_' + one.FILENAME_INPUT_SUFIX + \".csv\"), sep=\",\", error_bad_lines=True)\n",
    "  x_test = pd.read_csv(os.path.join(FOLDER_OUTPUT, 'x_test_' + one.FILENAME_INPUT_SUFIX + \".csv\"), sep=\",\", error_bad_lines=True)\n",
    "  print('Se ha cargado de disco x_train y x_test.')\n",
    "  \n",
    "# eliminar el dato anómalo?:\n",
    "if one.REMOVE_0_0:\n",
    "  x_train = x_train[(x_train['target'] != 0) | (x_train['standard_error'] != 0)]\n",
    "  x_test = x_test[(x_test['target'] != 0) | (x_test['standard_error'] != 0)]\n",
    "  print('Eliminado dato anómalo (0, 0). ' + str(len(x_train)))\n",
    "\n",
    "x_train.rename(columns = {'excerpt':'text', 'target':'labels'}, inplace = True)\n",
    "x_test.rename(columns = {'excerpt':'text', 'target':'labels'}, inplace = True)\n",
    "\n",
    "if one.FORCE_LOWERCASE == True:\n",
    "  x_train['text'] = x_train['text'].str.lower()\n",
    "  x_test['text'] = x_test['text'].str.lower()\n",
    "  print('Conversión a minúsculas.')\n",
    "\n",
    "if one.CONFIG_CLEAN_CHARS:\n",
    "  x_train['text'] = x_train['text'].apply(lambda x: clean_chars(x, stops_spaced_only))\n",
    "  x_test['text'] = x_test['text'].apply(lambda x: clean_chars(x, stops_spaced_only))\n",
    "  print('Limpiados los caracteres especiales.')\n",
    "\n",
    "if one.REMOVE_STOP_WORDS:\n",
    "  print('Limpiadas las stopwords.')\n",
    "  for one in stops:\n",
    "    x_train['text'] = x_train['text'].apply(lambda x: x.replace(' {} '.format(one), ' '))\n",
    "    x_test['text'] = x_test['text'].apply(lambda x: x.replace(' {} '.format(one), ' '))\n",
    "\n",
    "# calcular max_seq\n",
    "tokenizer = AutoTokenizer.from_pretrained(one.AUTO_TOKENIZER_NAME)\n",
    "\n",
    "x_train['excerpt_tokeniker'] = x_train['text'].apply(lambda x: tokenizer.tokenize(x))\n",
    "x_train['excerpt_tokeniker_len'] = x_train['excerpt_tokeniker'].apply(lambda x: len(x))\n",
    "\n",
    "x_test['excerpt_tokeniker'] = x_test['text'].apply(lambda x: tokenizer.tokenize(x))\n",
    "x_test['excerpt_tokeniker_len'] = x_test['excerpt_tokeniker'].apply(lambda x: len(x))\n",
    "\n",
    "one.MAX_SEQ_LENGTH = max(x_train['excerpt_tokeniker_len'].max(), x_test['excerpt_tokeniker_len'].max()) + 2 # max len de Train y Eval. (y +2)\n",
    "print('MAX_SEQ_LENGTH (from Train & Eval): ' + str(one.MAX_SEQ_LENGTH))\n",
    "\n",
    "\n",
    "print('==> ' + str(SUBMISSION_ID) + ': ' + one.info())"
   ]
  },
  {
   "cell_type": "code",
   "execution_count": 18,
   "id": "358e869b",
   "metadata": {},
   "outputs": [
    {
     "name": "stdout",
     "output_type": "stream",
     "text": [
      "ClassificationArgs(adam_epsilon=1e-08, best_model_dir='./output/out-roberta-base_1_2021-10-28_18_29_39/best_model', cache_dir='cache_dir/', config={}, cosine_schedule_num_cycles=0.5, custom_layer_parameters=[], custom_parameter_groups=[], dataloader_num_workers=2, do_lower_case=False, dynamic_quantize=False, early_stopping_consider_epochs=False, early_stopping_delta=0, early_stopping_metric='eval_loss', early_stopping_metric_minimize=True, early_stopping_patience=3, encoding=None, adafactor_eps=(1e-30, 0.001), adafactor_clip_threshold=1.0, adafactor_decay_rate=-0.8, adafactor_beta1=None, adafactor_scale_parameter=True, adafactor_relative_step=True, adafactor_warmup_init=True, eval_batch_size=8, evaluate_during_training=True, evaluate_during_training_silent=True, evaluate_during_training_steps=2000, evaluate_during_training_verbose=True, evaluate_each_epoch=True, fp16=False, gradient_accumulation_steps=1, learning_rate=4e-05, local_rank=-1, logging_steps=50, manual_seed=33, max_grad_norm=1.0, max_seq_length=322, model_name=None, model_type=None, multiprocessing_chunksize=500, n_gpu=1, no_cache=False, no_save=False, not_saved_args=[], num_train_epochs=5, optimizer='AdamW', output_dir='./output/out-roberta-base_1_2021-10-28_18_29_39', overwrite_output_dir=False, process_count=2, polynomial_decay_schedule_lr_end=1e-07, polynomial_decay_schedule_power=1.0, quantized_model=False, reprocess_input_data=True, save_best_model=True, save_eval_checkpoints=True, save_model_every_epoch=True, save_optimizer_and_scheduler=True, save_steps=2000, scheduler='linear_schedule_with_warmup', silent=False, skip_special_tokens=True, tensorboard_dir=None, thread_count=None, train_batch_size=8, train_custom_parameters_only=False, use_cached_eval_features=False, use_early_stopping=False, use_multiprocessing=True, wandb_kwargs={}, wandb_project=None, warmup_ratio=0.06, warmup_steps=0, weight_decay=0.0, model_class='ClassificationModel', labels_list=[], labels_map={}, lazy_delimiter='\\t', lazy_labels_column=1, lazy_loading=False, lazy_loading_start_line=1, lazy_text_a_column=None, lazy_text_b_column=None, lazy_text_column=0, onnx=False, regression=True, sliding_window=False, stride=0.8, tie_value=1)\n"
     ]
    }
   ],
   "source": [
    "model_args = ClassificationArgs()\n",
    "model_args.num_train_epochs = one.NUM_TRAIN_EPOCHS\n",
    "model_args.output_dir = one.OUTPUT_FOLDER\n",
    "model_args.regression = True\n",
    "model_args.evaluate_during_training = True\n",
    "model_args.evaluate_during_training_verbose = True\n",
    "\n",
    "model_args.fp16 = one.IS_FP16_ENABLED\n",
    "model_args.max_seq_length = one.MAX_SEQ_LENGTH\n",
    "model_args.eval_batch_size = one.EVAL_BATCH_SIZE\n",
    "model_args.train_batch_size = one.TRAIN_BATCH_SIZE\n",
    "model_args.gradient_accumulation_steps = one.CONFIG_GRADIENT_ACCUMULATION_STEPS\n",
    "\n",
    "model_args.learning_rate = one.LEARNING_RATE\n",
    "\n",
    "model_args.no_save = one.CONFIG_NO_SAVE_MODEL\n",
    "model_args.best_model_dir = os.path.join(one.OUTPUT_FOLDER, 'best_model')\n",
    "\n",
    "model_args.manual_seed = GLOBAL_SEED # para reproducible\n",
    "\n",
    "model_args.warmup_steps = one.WARMUP_STEPS\n",
    "\n",
    "# model_args.wandb_project = WANDB_PROJECT_NAME\n",
    "# model_args.wandb_kwargs['name'] = one.info()\n",
    "\n",
    "print(model_args)"
   ]
  },
  {
   "cell_type": "code",
   "execution_count": 19,
   "id": "400e39bb",
   "metadata": {},
   "outputs": [
    {
     "name": "stderr",
     "output_type": "stream",
     "text": [
      "Some weights of the model checkpoint at roberta-base were not used when initializing RobertaForSequenceClassification: ['lm_head.decoder.weight', 'lm_head.layer_norm.bias', 'lm_head.layer_norm.weight', 'lm_head.dense.weight', 'lm_head.dense.bias', 'lm_head.bias']\n",
      "- This IS expected if you are initializing RobertaForSequenceClassification from the checkpoint of a model trained on another task or with another architecture (e.g. initializing a BertForSequenceClassification model from a BertForPreTraining model).\n",
      "- This IS NOT expected if you are initializing RobertaForSequenceClassification from the checkpoint of a model that you expect to be exactly identical (initializing a BertForSequenceClassification model from a BertForSequenceClassification model).\n",
      "Some weights of RobertaForSequenceClassification were not initialized from the model checkpoint at roberta-base and are newly initialized: ['classifier.dense.bias', 'classifier.out_proj.bias', 'classifier.dense.weight', 'classifier.out_proj.weight']\n",
      "You should probably TRAIN this model on a down-stream task to be able to use it for predictions and inference.\n",
      "INFO:simpletransformers.classification.classification_model: Converting to features started. Cache is not used.\n"
     ]
    },
    {
     "data": {
      "application/vnd.jupyter.widget-view+json": {
       "model_id": "cac90a940be74bc19cc4d90bdec37243",
       "version_major": 2,
       "version_minor": 0
      },
      "text/plain": [
       "  0%|          | 0/2550 [00:00<?, ?it/s]"
      ]
     },
     "metadata": {},
     "output_type": "display_data"
    },
    {
     "data": {
      "application/vnd.jupyter.widget-view+json": {
       "model_id": "e249f49f998348199b359ea99808d3b5",
       "version_major": 2,
       "version_minor": 0
      },
      "text/plain": [
       "Epoch:   0%|          | 0/5 [00:00<?, ?it/s]"
      ]
     },
     "metadata": {},
     "output_type": "display_data"
    },
    {
     "data": {
      "application/vnd.jupyter.widget-view+json": {
       "model_id": "53e684fbf1ac4618bde92e755df18e85",
       "version_major": 2,
       "version_minor": 0
      },
      "text/plain": [
       "Running Epoch 0 of 5:   0%|          | 0/319 [00:00<?, ?it/s]"
      ]
     },
     "metadata": {},
     "output_type": "display_data"
    },
    {
     "name": "stderr",
     "output_type": "stream",
     "text": [
      "INFO:simpletransformers.classification.classification_model: Converting to features started. Cache is not used.\n",
      "INFO:simpletransformers.classification.classification_model:{'prediction_error': 0.4972742662001008, 'eval_loss': 0.37080445513129234}\n"
     ]
    },
    {
     "data": {
      "application/vnd.jupyter.widget-view+json": {
       "model_id": "d750bbdd7552407da9e3601e42dc6e3a",
       "version_major": 2,
       "version_minor": 0
      },
      "text/plain": [
       "Running Epoch 1 of 5:   0%|          | 0/319 [00:00<?, ?it/s]"
      ]
     },
     "metadata": {},
     "output_type": "display_data"
    },
    {
     "name": "stderr",
     "output_type": "stream",
     "text": [
      "INFO:simpletransformers.classification.classification_model: Converting to features started. Cache is not used.\n",
      "INFO:simpletransformers.classification.classification_model:{'prediction_error': 0.5295451188551813, 'eval_loss': 0.42812980131970513}\n"
     ]
    },
    {
     "data": {
      "application/vnd.jupyter.widget-view+json": {
       "model_id": "93091b05f3ed4926a3ff16ff9dc34ce3",
       "version_major": 2,
       "version_minor": 0
      },
      "text/plain": [
       "Running Epoch 2 of 5:   0%|          | 0/319 [00:00<?, ?it/s]"
      ]
     },
     "metadata": {},
     "output_type": "display_data"
    },
    {
     "name": "stderr",
     "output_type": "stream",
     "text": [
      "INFO:simpletransformers.classification.classification_model: Converting to features started. Cache is not used.\n",
      "INFO:simpletransformers.classification.classification_model:{'prediction_error': 0.6533960971832079, 'eval_loss': 0.6184557212723626}\n"
     ]
    },
    {
     "data": {
      "application/vnd.jupyter.widget-view+json": {
       "model_id": "8b1afcb46d2047fb8ff17409fc9f5da3",
       "version_major": 2,
       "version_minor": 0
      },
      "text/plain": [
       "Running Epoch 3 of 5:   0%|          | 0/319 [00:00<?, ?it/s]"
      ]
     },
     "metadata": {},
     "output_type": "display_data"
    },
    {
     "name": "stderr",
     "output_type": "stream",
     "text": [
      "INFO:simpletransformers.classification.classification_model: Converting to features started. Cache is not used.\n",
      "INFO:simpletransformers.classification.classification_model:{'prediction_error': 0.4459620239672212, 'eval_loss': 0.3230808104077975}\n"
     ]
    },
    {
     "data": {
      "application/vnd.jupyter.widget-view+json": {
       "model_id": "cdc126d21fc4483b8e564afb0ebee6dc",
       "version_major": 2,
       "version_minor": 0
      },
      "text/plain": [
       "Running Epoch 4 of 5:   0%|          | 0/319 [00:00<?, ?it/s]"
      ]
     },
     "metadata": {},
     "output_type": "display_data"
    },
    {
     "name": "stderr",
     "output_type": "stream",
     "text": [
      "INFO:simpletransformers.classification.classification_model: Converting to features started. Cache is not used.\n",
      "INFO:simpletransformers.classification.classification_model:{'prediction_error': 0.47813418899616883, 'eval_loss': 0.36507454328238964}\n",
      "INFO:simpletransformers.classification.classification_model: Training of roberta model complete. Saved to ./output/out-roberta-base_1_2021-10-28_18_29_39.\n"
     ]
    },
    {
     "data": {
      "text/plain": [
       "(1595,\n",
       " {'global_step': [319, 638, 957, 1276, 1595],\n",
       "  'train_loss': [0.3251998722553253,\n",
       "   0.07599388808012009,\n",
       "   0.3134761154651642,\n",
       "   0.0371391735970974,\n",
       "   0.12416594475507736],\n",
       "  'eval_loss': [0.37080445513129234,\n",
       "   0.42812980131970513,\n",
       "   0.6184557212723626,\n",
       "   0.3230808104077975,\n",
       "   0.36507454328238964],\n",
       "  'prediction_error': [0.4972742662001008,\n",
       "   0.5295451188551813,\n",
       "   0.6533960971832079,\n",
       "   0.4459620239672212,\n",
       "   0.47813418899616883]})"
      ]
     },
     "execution_count": 19,
     "metadata": {},
     "output_type": "execute_result"
    }
   ],
   "source": [
    "model = ClassificationModel(\n",
    "    one.MODEL_TYPE,\n",
    "    one.MODEL_NAME,\n",
    "    num_labels=1,\n",
    "    args=model_args\n",
    ")\n",
    "\n",
    "model.train_model(x_train, eval_df=x_test, show_running_loss=True, verbose=True, prediction_error=prediction_error)"
   ]
  },
  {
   "cell_type": "code",
   "execution_count": 20,
   "id": "4e32d6d7",
   "metadata": {},
   "outputs": [
    {
     "name": "stderr",
     "output_type": "stream",
     "text": [
      "INFO:simpletransformers.classification.classification_model: Converting to features started. Cache is not used.\n"
     ]
    },
    {
     "data": {
      "application/vnd.jupyter.widget-view+json": {
       "model_id": "1560307ff37a4b529dec28bca0bd5a0b",
       "version_major": 2,
       "version_minor": 0
      },
      "text/plain": [
       "  0%|          | 0/284 [00:00<?, ?it/s]"
      ]
     },
     "metadata": {},
     "output_type": "display_data"
    },
    {
     "data": {
      "application/vnd.jupyter.widget-view+json": {
       "model_id": "01e38c111f9847ee950b9e38bce5857e",
       "version_major": 2,
       "version_minor": 0
      },
      "text/plain": [
       "Running Evaluation:   0%|          | 0/36 [00:00<?, ?it/s]"
      ]
     },
     "metadata": {},
     "output_type": "display_data"
    },
    {
     "name": "stderr",
     "output_type": "stream",
     "text": [
      "INFO:simpletransformers.classification.classification_model:{'prediction_error': 0.47813418899616883, 'eval_loss': 0.36507454328238964}\n"
     ]
    },
    {
     "data": {
      "text/plain": [
       "{'eval_loss': 0.36507454328238964}"
      ]
     },
     "execution_count": 20,
     "metadata": {},
     "output_type": "execute_result"
    }
   ],
   "source": [
    "result, model_outputs, wrong_predictions = model.eval_model(x_test, verbose=True)\n",
    "result"
   ]
  },
  {
   "cell_type": "code",
   "execution_count": 21,
   "id": "dff8b1cf",
   "metadata": {},
   "outputs": [
    {
     "name": "stdout",
     "output_type": "stream",
     "text": [
      "(ABS) Mean prediction error for this experiment: 0.4781341878344585\n"
     ]
    }
   ],
   "source": [
    "STR_SUBMISSION_ID = str(SUBMISSION_ID)\n",
    "\n",
    "solutions = pd.DataFrame()\n",
    "solutions['text_' + STR_SUBMISSION_ID] = x_test['text']\n",
    "solutions['labels_' + STR_SUBMISSION_ID] = x_test['labels']\n",
    "solutions['standard_error_' + STR_SUBMISSION_ID] = x_test['standard_error']\n",
    "\n",
    "solutions['prediction_' + STR_SUBMISSION_ID] = model_outputs\n",
    "solutions['prediction_error_abs_' + STR_SUBMISSION_ID] = solutions.apply(lambda x: abs(x['labels_' + STR_SUBMISSION_ID] - x['prediction_' + STR_SUBMISSION_ID]), axis=1)\n",
    "\n",
    "print('(ABS) Mean prediction error for this experiment: ' + str(solutions['prediction_error_abs_' + STR_SUBMISSION_ID].mean(axis=0)))"
   ]
  },
  {
   "cell_type": "code",
   "execution_count": 23,
   "id": "2d7c8ed7",
   "metadata": {},
   "outputs": [],
   "source": [
    "# cargando desde fichero el modelo entrenado\n",
    "model_loaded = ClassificationModel(\n",
    "    one.MODEL_TYPE,\n",
    "    os.path.join(one.OUTPUT_FOLDER, 'best_model'),\n",
    "    num_labels=1,\n",
    "    args=model_args\n",
    ")"
   ]
  },
  {
   "cell_type": "code",
   "execution_count": 24,
   "id": "a4ac6b8f",
   "metadata": {},
   "outputs": [
    {
     "name": "stderr",
     "output_type": "stream",
     "text": [
      "INFO:simpletransformers.classification.classification_model: Converting to features started. Cache is not used.\n"
     ]
    },
    {
     "data": {
      "application/vnd.jupyter.widget-view+json": {
       "model_id": "50425b645d4c4a33a8754350048560e5",
       "version_major": 2,
       "version_minor": 0
      },
      "text/plain": [
       "  0%|          | 0/284 [00:00<?, ?it/s]"
      ]
     },
     "metadata": {},
     "output_type": "display_data"
    },
    {
     "data": {
      "application/vnd.jupyter.widget-view+json": {
       "model_id": "dec035abcbf2463fbeb941fdb1c996eb",
       "version_major": 2,
       "version_minor": 0
      },
      "text/plain": [
       "Running Evaluation:   0%|          | 0/36 [00:00<?, ?it/s]"
      ]
     },
     "metadata": {},
     "output_type": "display_data"
    },
    {
     "name": "stderr",
     "output_type": "stream",
     "text": [
      "INFO:simpletransformers.classification.classification_model:{'prediction_error': 0.4459620239672212, 'eval_loss': 0.3230808104077975}\n"
     ]
    }
   ],
   "source": [
    "result, model_outputs, wrong_predictions = model_loaded.eval_model(x_test, verbose=True, prediction_error=prediction_error)"
   ]
  },
  {
   "cell_type": "code",
   "execution_count": 25,
   "id": "dd53ce7d",
   "metadata": {},
   "outputs": [
    {
     "data": {
      "text/plain": [
       "{'prediction_error': 0.4459620239672212, 'eval_loss': 0.3230808104077975}"
      ]
     },
     "execution_count": 25,
     "metadata": {},
     "output_type": "execute_result"
    }
   ],
   "source": [
    "result"
   ]
  },
  {
   "cell_type": "code",
   "execution_count": 27,
   "id": "980db6b7",
   "metadata": {},
   "outputs": [
    {
     "name": "stdout",
     "output_type": "stream",
     "text": [
      "enviando a S3: ./output/out-roberta-base_1_2021-10-28_18_29_39/best_model/training_args.bin\n",
      "enviando a S3: ./output/out-roberta-base_1_2021-10-28_18_29_39/best_model/eval_results.txt\n",
      "enviando a S3: ./output/out-roberta-base_1_2021-10-28_18_29_39/best_model/model_args.json\n",
      "enviando a S3: ./output/out-roberta-base_1_2021-10-28_18_29_39/best_model/config.json\n",
      "enviando a S3: ./output/out-roberta-base_1_2021-10-28_18_29_39/best_model/optimizer.pt\n",
      "enviando a S3: ./output/out-roberta-base_1_2021-10-28_18_29_39/best_model/tokenizer_config.json\n",
      "enviando a S3: ./output/out-roberta-base_1_2021-10-28_18_29_39/best_model/vocab.json\n",
      "enviando a S3: ./output/out-roberta-base_1_2021-10-28_18_29_39/best_model/pytorch_model.bin\n",
      "enviando a S3: ./output/out-roberta-base_1_2021-10-28_18_29_39/best_model/scheduler.pt\n",
      "enviando a S3: ./output/out-roberta-base_1_2021-10-28_18_29_39/best_model/special_tokens_map.json\n",
      "enviando a S3: ./output/out-roberta-base_1_2021-10-28_18_29_39/best_model/merges.txt\n",
      "Fin :)\n"
     ]
    }
   ],
   "source": [
    "import boto3, os\n",
    "\n",
    "BEST_DIR = os.path.join(one.OUTPUT_FOLDER, 'best_model')\n",
    "\n",
    "for (dirpath, dirnames, filenames) in os.walk(BEST_DIR):\n",
    "    for one in filenames:\n",
    "        path = os.path.join(dirpath, one)\n",
    "        print('enviando a S3: ' + path)\n",
    "        boto3.Session().resource('s3').Bucket(S3_BUCKET_NAME).Object(path).upload_file(path)\n",
    "print('Fin :)')"
   ]
  },
  {
   "cell_type": "code",
   "execution_count": null,
   "id": "e0b3dc2e",
   "metadata": {},
   "outputs": [],
   "source": []
  }
 ],
 "metadata": {
  "kernelspec": {
   "display_name": "conda_pytorch_latest_p37",
   "language": "python",
   "name": "conda_pytorch_latest_p37"
  },
  "language_info": {
   "codemirror_mode": {
    "name": "ipython",
    "version": 3
   },
   "file_extension": ".py",
   "mimetype": "text/x-python",
   "name": "python",
   "nbconvert_exporter": "python",
   "pygments_lexer": "ipython3",
   "version": "3.7.10"
  }
 },
 "nbformat": 4,
 "nbformat_minor": 5
}
